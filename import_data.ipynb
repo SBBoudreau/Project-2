{
 "cells": [
  {
   "cell_type": "markdown",
   "metadata": {},
   "source": [
    "# Postgres + Pandas"
   ]
  },
  {
   "cell_type": "code",
   "execution_count": 19,
   "metadata": {},
   "outputs": [],
   "source": [
    "import pandas as pd\n",
    "from sqlalchemy import create_engine\n",
    "import os"
   ]
  },
  {
   "cell_type": "markdown",
   "metadata": {
    "slideshow": {
     "slide_type": "-"
    }
   },
   "source": [
    "### Store CSV into DataFrame"
   ]
  },
  {
   "cell_type": "code",
   "execution_count": 20,
   "metadata": {},
   "outputs": [
    {
     "data": {
      "text/plain": [
       "<bound method NDFrame.head of           country  revenue  gamers\n",
       "0           China    36500     640\n",
       "1           India     1560     300\n",
       "2   Latin America     2450     253\n",
       "3  Southeast Asia     4300     227\n",
       "4              US    35500     164\n",
       "5              UK     4700      37>"
      ]
     },
     "execution_count": 20,
     "metadata": {},
     "output_type": "execute_result"
    }
   ],
   "source": [
    "csv_file = os.path.join(\"Resources\", \"revenue.csv\")\n",
    "revenue_df = pd.read_csv(csv_file)\n",
    "revenue_df.head"
   ]
  },
  {
   "cell_type": "code",
   "execution_count": 21,
   "metadata": {},
   "outputs": [],
   "source": [
    "#Creating a copy of the df to choose only required columns\n",
    "\n",
    "df=revenue_df[['country','revenue','gamers']]"
   ]
  },
  {
   "cell_type": "code",
   "execution_count": 22,
   "metadata": {},
   "outputs": [
    {
     "data": {
      "text/html": [
       "<div>\n",
       "<style scoped>\n",
       "    .dataframe tbody tr th:only-of-type {\n",
       "        vertical-align: middle;\n",
       "    }\n",
       "\n",
       "    .dataframe tbody tr th {\n",
       "        vertical-align: top;\n",
       "    }\n",
       "\n",
       "    .dataframe thead th {\n",
       "        text-align: right;\n",
       "    }\n",
       "</style>\n",
       "<table border=\"1\" class=\"dataframe\">\n",
       "  <thead>\n",
       "    <tr style=\"text-align: right;\">\n",
       "      <th></th>\n",
       "      <th>country</th>\n",
       "      <th>revenue</th>\n",
       "      <th>gamers</th>\n",
       "    </tr>\n",
       "  </thead>\n",
       "  <tbody>\n",
       "    <tr>\n",
       "      <th>0</th>\n",
       "      <td>China</td>\n",
       "      <td>36500</td>\n",
       "      <td>640</td>\n",
       "    </tr>\n",
       "    <tr>\n",
       "      <th>1</th>\n",
       "      <td>India</td>\n",
       "      <td>1560</td>\n",
       "      <td>300</td>\n",
       "    </tr>\n",
       "    <tr>\n",
       "      <th>2</th>\n",
       "      <td>Latin America</td>\n",
       "      <td>2450</td>\n",
       "      <td>253</td>\n",
       "    </tr>\n",
       "    <tr>\n",
       "      <th>3</th>\n",
       "      <td>Southeast Asia</td>\n",
       "      <td>4300</td>\n",
       "      <td>227</td>\n",
       "    </tr>\n",
       "    <tr>\n",
       "      <th>4</th>\n",
       "      <td>US</td>\n",
       "      <td>35500</td>\n",
       "      <td>164</td>\n",
       "    </tr>\n",
       "  </tbody>\n",
       "</table>\n",
       "</div>"
      ],
      "text/plain": [
       "          country  revenue  gamers\n",
       "0           China    36500     640\n",
       "1           India     1560     300\n",
       "2   Latin America     2450     253\n",
       "3  Southeast Asia     4300     227\n",
       "4              US    35500     164"
      ]
     },
     "execution_count": 22,
     "metadata": {},
     "output_type": "execute_result"
    }
   ],
   "source": [
    "df.head()"
   ]
  },
  {
   "cell_type": "code",
   "execution_count": 23,
   "metadata": {},
   "outputs": [
    {
     "data": {
      "text/plain": [
       "country    object\n",
       "revenue     int64\n",
       "gamers      int64\n",
       "dtype: object"
      ]
     },
     "execution_count": 23,
     "metadata": {},
     "output_type": "execute_result"
    }
   ],
   "source": [
    "df.dtypes"
   ]
  },
  {
   "cell_type": "markdown",
   "metadata": {},
   "source": [
    "### Summarizing streaming channels into a single column"
   ]
  },
  {
   "cell_type": "code",
   "execution_count": 24,
   "metadata": {},
   "outputs": [
    {
     "data": {
      "text/plain": [
       "<bound method NDFrame.head of         age  avg_hours\n",
       "0     18-25       7.78\n",
       "1     26-35       8.21\n",
       "2     36-45       7.76\n",
       "3     46-60       6.32\n",
       "4   Over 60       5.63\n",
       "5  All Ages       7.11>"
      ]
     },
     "execution_count": 24,
     "metadata": {},
     "output_type": "execute_result"
    }
   ],
   "source": [
    "csv_file = os.path.join(\"Resources\", \"age.csv\")\n",
    "age_df = pd.read_csv(csv_file)\n",
    "age_df.head"
   ]
  },
  {
   "cell_type": "code",
   "execution_count": 25,
   "metadata": {},
   "outputs": [],
   "source": [
    "#Creating a copy of the df to choose only required columns\n",
    "\n",
    "df=age_df[['age','avg_hours']]"
   ]
  },
  {
   "cell_type": "code",
   "execution_count": 26,
   "metadata": {},
   "outputs": [
    {
     "data": {
      "text/plain": [
       "age           object\n",
       "avg_hours    float64\n",
       "dtype: object"
      ]
     },
     "execution_count": 26,
     "metadata": {},
     "output_type": "execute_result"
    }
   ],
   "source": [
    "df.dtypes"
   ]
  },
  {
   "cell_type": "code",
   "execution_count": 27,
   "metadata": {},
   "outputs": [
    {
     "data": {
      "text/plain": [
       "<bound method NDFrame.head of        country  perc_male  perc_female\n",
       "0           US       0.54         0.46\n",
       "1        Japan       0.34         0.66\n",
       "2           UK       0.51         0.49\n",
       "3  South Korea       0.63         0.37\n",
       "4        China       0.73         0.27>"
      ]
     },
     "execution_count": 27,
     "metadata": {},
     "output_type": "execute_result"
    }
   ],
   "source": [
    "csv_file = os.path.join(\"Resources\", \"gender.csv\")\n",
    "gender_df = pd.read_csv(csv_file)\n",
    "gender_df.head"
   ]
  },
  {
   "cell_type": "code",
   "execution_count": 28,
   "metadata": {},
   "outputs": [
    {
     "data": {
      "text/plain": [
       "country         object\n",
       "perc_male      float64\n",
       "perc_female    float64\n",
       "dtype: object"
      ]
     },
     "execution_count": 28,
     "metadata": {},
     "output_type": "execute_result"
    }
   ],
   "source": [
    "#Creating a copy of the df to choose only required columns\n",
    "\n",
    "df=gender_df[['country','perc_male', 'perc_female']]\n",
    "df.head()\n",
    "df.dtypes"
   ]
  },
  {
   "cell_type": "code",
   "execution_count": 29,
   "metadata": {},
   "outputs": [
    {
     "data": {
      "text/plain": [
       "country       object\n",
       "avg_hours    float64\n",
       "dtype: object"
      ]
     },
     "execution_count": 29,
     "metadata": {},
     "output_type": "execute_result"
    }
   ],
   "source": [
    "csv_file = os.path.join(\"Resources\", \"hours_average_country.csv\")\n",
    "hours_average_country_df = pd.read_csv(csv_file)\n",
    "hours_average_country_df.head\n",
    "hours_average_country_df.dtypes"
   ]
  },
  {
   "cell_type": "code",
   "execution_count": 30,
   "metadata": {},
   "outputs": [
    {
     "data": {
      "text/plain": [
       "country       object\n",
       "avg_hours    float64\n",
       "dtype: object"
      ]
     },
     "execution_count": 30,
     "metadata": {},
     "output_type": "execute_result"
    }
   ],
   "source": [
    "#Creating a copy of the df to choose only required columns\n",
    "\n",
    "df=hours_average_country_df[['country','avg_hours']]\n",
    "df.head()\n",
    "df.dtypes"
   ]
  },
  {
   "cell_type": "code",
   "execution_count": 31,
   "metadata": {},
   "outputs": [
    {
     "data": {
      "text/plain": [
       "country       object\n",
       "avg_hours    float64\n",
       "dtype: object"
      ]
     },
     "execution_count": 31,
     "metadata": {},
     "output_type": "execute_result"
    }
   ],
   "source": [
    "csv_file = os.path.join(\"Resources\", \"steam_users_lifetime.csv\")\n",
    "steam_users_lifetime_df = pd.read_csv(csv_file)\n",
    "steam_users_lifetime_df.head\n",
    "df.dtypes"
   ]
  },
  {
   "cell_type": "code",
   "execution_count": 32,
   "metadata": {},
   "outputs": [
    {
     "data": {
      "text/html": [
       "<div>\n",
       "<style scoped>\n",
       "    .dataframe tbody tr th:only-of-type {\n",
       "        vertical-align: middle;\n",
       "    }\n",
       "\n",
       "    .dataframe tbody tr th {\n",
       "        vertical-align: top;\n",
       "    }\n",
       "\n",
       "    .dataframe thead th {\n",
       "        text-align: right;\n",
       "    }\n",
       "</style>\n",
       "<table border=\"1\" class=\"dataframe\">\n",
       "  <thead>\n",
       "    <tr style=\"text-align: right;\">\n",
       "      <th></th>\n",
       "      <th>date</th>\n",
       "      <th>users</th>\n",
       "      <th>in_game</th>\n",
       "    </tr>\n",
       "  </thead>\n",
       "  <tbody>\n",
       "    <tr>\n",
       "      <th>0</th>\n",
       "      <td>1/1/2019</td>\n",
       "      <td>16067952</td>\n",
       "      <td>4915125</td>\n",
       "    </tr>\n",
       "    <tr>\n",
       "      <th>1</th>\n",
       "      <td>1/2/2019</td>\n",
       "      <td>16124928</td>\n",
       "      <td>4838979</td>\n",
       "    </tr>\n",
       "    <tr>\n",
       "      <th>2</th>\n",
       "      <td>1/3/2019</td>\n",
       "      <td>15938390</td>\n",
       "      <td>4737719</td>\n",
       "    </tr>\n",
       "    <tr>\n",
       "      <th>3</th>\n",
       "      <td>1/4/2019</td>\n",
       "      <td>16473114</td>\n",
       "      <td>5088225</td>\n",
       "    </tr>\n",
       "    <tr>\n",
       "      <th>4</th>\n",
       "      <td>1/5/2019</td>\n",
       "      <td>17469182</td>\n",
       "      <td>5555946</td>\n",
       "    </tr>\n",
       "  </tbody>\n",
       "</table>\n",
       "</div>"
      ],
      "text/plain": [
       "       date     users  in_game\n",
       "0  1/1/2019  16067952  4915125\n",
       "1  1/2/2019  16124928  4838979\n",
       "2  1/3/2019  15938390  4737719\n",
       "3  1/4/2019  16473114  5088225\n",
       "4  1/5/2019  17469182  5555946"
      ]
     },
     "execution_count": 32,
     "metadata": {},
     "output_type": "execute_result"
    }
   ],
   "source": [
    "#Creating a copy of the df to choose only required columns\n",
    "\n",
    "df=steam_users_lifetime_df[['date','users', 'in_game']]\n",
    "df.head()"
   ]
  },
  {
   "cell_type": "code",
   "execution_count": 33,
   "metadata": {},
   "outputs": [
    {
     "data": {
      "text/plain": [
       "<bound method NDFrame.head of            date  dota_2  counter_strike  terraria  postal     gta  fallout_4  \\\n",
       "0      1/1/2019  630381          577546     30825       9  105875      25257   \n",
       "1      1/2/2019  653543          617293     29696      10  104300      21224   \n",
       "2      1/3/2019  645297          614938     29331       9  102460      20530   \n",
       "3      1/4/2019  679515          648525     32569       7  111765      20679   \n",
       "4      1/5/2019  731384          671521     38075      11  118732      23563   \n",
       "..          ...     ...             ...       ...     ...     ...        ...   \n",
       "696  11/27/2020  594916          957979     40937      17  141985      21315   \n",
       "697  11/28/2020  635421         1032509     45245      14  157463      23544   \n",
       "698  11/29/2020  638909          998892     42417      16  153361      24759   \n",
       "699  11/30/2020  579531          911943     36268      16  131554      19985   \n",
       "700   12/1/2020  585832          901058     36071      15  129733      19625   \n",
       "\n",
       "     life_is_strange  battlegrounds  hitman_2  among_us  \n",
       "0                272         986759      7354        18  \n",
       "1                230         988726      5703        16  \n",
       "2                215         978611      5949        23  \n",
       "3                215        1037423      5923        19  \n",
       "4                172        1091897      9705        21  \n",
       "..               ...            ...       ...       ...  \n",
       "696              536         417104      3251    221984  \n",
       "697              716         440877      4511    222159  \n",
       "698              709         438119      5025    174028  \n",
       "699              539         406080      3884    151449  \n",
       "700              578         400859      3754    140283  \n",
       "\n",
       "[701 rows x 11 columns]>"
      ]
     },
     "execution_count": 33,
     "metadata": {},
     "output_type": "execute_result"
    }
   ],
   "source": [
    "csv_file = os.path.join(\"Resources\", \"top_ten.csv\")\n",
    "top_ten_df = pd.read_csv(csv_file)\n",
    "top_ten_df.head"
   ]
  },
  {
   "cell_type": "code",
   "execution_count": 34,
   "metadata": {},
   "outputs": [
    {
     "data": {
      "text/html": [
       "<div>\n",
       "<style scoped>\n",
       "    .dataframe tbody tr th:only-of-type {\n",
       "        vertical-align: middle;\n",
       "    }\n",
       "\n",
       "    .dataframe tbody tr th {\n",
       "        vertical-align: top;\n",
       "    }\n",
       "\n",
       "    .dataframe thead th {\n",
       "        text-align: right;\n",
       "    }\n",
       "</style>\n",
       "<table border=\"1\" class=\"dataframe\">\n",
       "  <thead>\n",
       "    <tr style=\"text-align: right;\">\n",
       "      <th></th>\n",
       "      <th>date</th>\n",
       "      <th>dota_2</th>\n",
       "      <th>counter_strike</th>\n",
       "      <th>terraria</th>\n",
       "      <th>postal</th>\n",
       "      <th>gta</th>\n",
       "      <th>fallout_4</th>\n",
       "      <th>life_is_strange</th>\n",
       "      <th>battlegrounds</th>\n",
       "      <th>hitman_2</th>\n",
       "      <th>among_us</th>\n",
       "    </tr>\n",
       "  </thead>\n",
       "  <tbody>\n",
       "    <tr>\n",
       "      <th>0</th>\n",
       "      <td>1/1/2019</td>\n",
       "      <td>630381</td>\n",
       "      <td>577546</td>\n",
       "      <td>30825</td>\n",
       "      <td>9</td>\n",
       "      <td>105875</td>\n",
       "      <td>25257</td>\n",
       "      <td>272</td>\n",
       "      <td>986759</td>\n",
       "      <td>7354</td>\n",
       "      <td>18</td>\n",
       "    </tr>\n",
       "    <tr>\n",
       "      <th>1</th>\n",
       "      <td>1/2/2019</td>\n",
       "      <td>653543</td>\n",
       "      <td>617293</td>\n",
       "      <td>29696</td>\n",
       "      <td>10</td>\n",
       "      <td>104300</td>\n",
       "      <td>21224</td>\n",
       "      <td>230</td>\n",
       "      <td>988726</td>\n",
       "      <td>5703</td>\n",
       "      <td>16</td>\n",
       "    </tr>\n",
       "    <tr>\n",
       "      <th>2</th>\n",
       "      <td>1/3/2019</td>\n",
       "      <td>645297</td>\n",
       "      <td>614938</td>\n",
       "      <td>29331</td>\n",
       "      <td>9</td>\n",
       "      <td>102460</td>\n",
       "      <td>20530</td>\n",
       "      <td>215</td>\n",
       "      <td>978611</td>\n",
       "      <td>5949</td>\n",
       "      <td>23</td>\n",
       "    </tr>\n",
       "    <tr>\n",
       "      <th>3</th>\n",
       "      <td>1/4/2019</td>\n",
       "      <td>679515</td>\n",
       "      <td>648525</td>\n",
       "      <td>32569</td>\n",
       "      <td>7</td>\n",
       "      <td>111765</td>\n",
       "      <td>20679</td>\n",
       "      <td>215</td>\n",
       "      <td>1037423</td>\n",
       "      <td>5923</td>\n",
       "      <td>19</td>\n",
       "    </tr>\n",
       "    <tr>\n",
       "      <th>4</th>\n",
       "      <td>1/5/2019</td>\n",
       "      <td>731384</td>\n",
       "      <td>671521</td>\n",
       "      <td>38075</td>\n",
       "      <td>11</td>\n",
       "      <td>118732</td>\n",
       "      <td>23563</td>\n",
       "      <td>172</td>\n",
       "      <td>1091897</td>\n",
       "      <td>9705</td>\n",
       "      <td>21</td>\n",
       "    </tr>\n",
       "  </tbody>\n",
       "</table>\n",
       "</div>"
      ],
      "text/plain": [
       "       date  dota_2  counter_strike  terraria  postal     gta  fallout_4  \\\n",
       "0  1/1/2019  630381          577546     30825       9  105875      25257   \n",
       "1  1/2/2019  653543          617293     29696      10  104300      21224   \n",
       "2  1/3/2019  645297          614938     29331       9  102460      20530   \n",
       "3  1/4/2019  679515          648525     32569       7  111765      20679   \n",
       "4  1/5/2019  731384          671521     38075      11  118732      23563   \n",
       "\n",
       "   life_is_strange  battlegrounds  hitman_2  among_us  \n",
       "0              272         986759      7354        18  \n",
       "1              230         988726      5703        16  \n",
       "2              215         978611      5949        23  \n",
       "3              215        1037423      5923        19  \n",
       "4              172        1091897      9705        21  "
      ]
     },
     "execution_count": 34,
     "metadata": {},
     "output_type": "execute_result"
    }
   ],
   "source": [
    "#Creating a copy of the df to choose only required columns\n",
    "\n",
    "df=top_ten_df[['date','dota_2', 'counter_strike', 'terraria', 'postal', 'gta', 'fallout_4', 'life_is_strange', 'battlegrounds', 'hitman_2', 'among_us']]\n",
    "df.head()"
   ]
  },
  {
   "cell_type": "markdown",
   "metadata": {},
   "source": [
    "### Connect to local database"
   ]
  },
  {
   "cell_type": "code",
   "execution_count": 36,
   "metadata": {},
   "outputs": [],
   "source": [
    "pg_user = 'postgres'\n",
    "db_name = 'Gamers'\n",
    "\n",
    "connection_string = f\"{pg_user}:Sugar5728865**@localhost:5432/{db_name}\"\n",
    "engine = create_engine(f'postgresql://{connection_string}')"
   ]
  },
  {
   "cell_type": "markdown",
   "metadata": {},
   "source": [
    "### Check for tables"
   ]
  },
  {
   "cell_type": "code",
   "execution_count": 37,
   "metadata": {},
   "outputs": [
    {
     "data": {
      "text/plain": [
       "['revenue',\n",
       " 'age',\n",
       " 'gender',\n",
       " 'top_ten',\n",
       " 'steam_users_lifetime',\n",
       " 'hours_average_country']"
      ]
     },
     "execution_count": 37,
     "metadata": {},
     "output_type": "execute_result"
    }
   ],
   "source": [
    "engine.table_names()"
   ]
  },
  {
   "cell_type": "markdown",
   "metadata": {},
   "source": [
    "### Use pandas to load json converted DataFrame into database"
   ]
  },
  {
   "cell_type": "code",
   "execution_count": 38,
   "metadata": {},
   "outputs": [],
   "source": [
    "# load revenue table data to postgresDB\n",
    "revenue_df.to_sql(name='revenue', con=engine, if_exists='append', index=False)"
   ]
  },
  {
   "cell_type": "markdown",
   "metadata": {},
   "source": [
    "### Confirm data has been added by querying the customer_name table\n",
    "* NOTE: can also check using pgAdmin"
   ]
  },
  {
   "cell_type": "code",
   "execution_count": 39,
   "metadata": {},
   "outputs": [
    {
     "data": {
      "text/html": [
       "<div>\n",
       "<style scoped>\n",
       "    .dataframe tbody tr th:only-of-type {\n",
       "        vertical-align: middle;\n",
       "    }\n",
       "\n",
       "    .dataframe tbody tr th {\n",
       "        vertical-align: top;\n",
       "    }\n",
       "\n",
       "    .dataframe thead th {\n",
       "        text-align: right;\n",
       "    }\n",
       "</style>\n",
       "<table border=\"1\" class=\"dataframe\">\n",
       "  <thead>\n",
       "    <tr style=\"text-align: right;\">\n",
       "      <th></th>\n",
       "      <th>country</th>\n",
       "      <th>revenue</th>\n",
       "      <th>gamers</th>\n",
       "    </tr>\n",
       "  </thead>\n",
       "  <tbody>\n",
       "    <tr>\n",
       "      <th>0</th>\n",
       "      <td>China</td>\n",
       "      <td>36500</td>\n",
       "      <td>640</td>\n",
       "    </tr>\n",
       "    <tr>\n",
       "      <th>1</th>\n",
       "      <td>India</td>\n",
       "      <td>1560</td>\n",
       "      <td>300</td>\n",
       "    </tr>\n",
       "    <tr>\n",
       "      <th>2</th>\n",
       "      <td>Latin America</td>\n",
       "      <td>2450</td>\n",
       "      <td>253</td>\n",
       "    </tr>\n",
       "    <tr>\n",
       "      <th>3</th>\n",
       "      <td>Southeast Asia</td>\n",
       "      <td>4300</td>\n",
       "      <td>227</td>\n",
       "    </tr>\n",
       "    <tr>\n",
       "      <th>4</th>\n",
       "      <td>US</td>\n",
       "      <td>35500</td>\n",
       "      <td>164</td>\n",
       "    </tr>\n",
       "  </tbody>\n",
       "</table>\n",
       "</div>"
      ],
      "text/plain": [
       "          country  revenue  gamers\n",
       "0           China    36500     640\n",
       "1           India     1560     300\n",
       "2   Latin America     2450     253\n",
       "3  Southeast Asia     4300     227\n",
       "4              US    35500     164"
      ]
     },
     "execution_count": 39,
     "metadata": {},
     "output_type": "execute_result"
    }
   ],
   "source": [
    "pd.read_sql_query('select * from revenue', con=engine).head()"
   ]
  },
  {
   "cell_type": "code",
   "execution_count": 40,
   "metadata": {},
   "outputs": [
    {
     "data": {
      "text/html": [
       "<div>\n",
       "<style scoped>\n",
       "    .dataframe tbody tr th:only-of-type {\n",
       "        vertical-align: middle;\n",
       "    }\n",
       "\n",
       "    .dataframe tbody tr th {\n",
       "        vertical-align: top;\n",
       "    }\n",
       "\n",
       "    .dataframe thead th {\n",
       "        text-align: right;\n",
       "    }\n",
       "</style>\n",
       "<table border=\"1\" class=\"dataframe\">\n",
       "  <thead>\n",
       "    <tr style=\"text-align: right;\">\n",
       "      <th></th>\n",
       "      <th>age</th>\n",
       "      <th>avg_hours</th>\n",
       "    </tr>\n",
       "  </thead>\n",
       "  <tbody>\n",
       "    <tr>\n",
       "      <th>0</th>\n",
       "      <td>18-25</td>\n",
       "      <td>8</td>\n",
       "    </tr>\n",
       "    <tr>\n",
       "      <th>1</th>\n",
       "      <td>26-35</td>\n",
       "      <td>8</td>\n",
       "    </tr>\n",
       "    <tr>\n",
       "      <th>2</th>\n",
       "      <td>36-45</td>\n",
       "      <td>8</td>\n",
       "    </tr>\n",
       "    <tr>\n",
       "      <th>3</th>\n",
       "      <td>46-60</td>\n",
       "      <td>6</td>\n",
       "    </tr>\n",
       "    <tr>\n",
       "      <th>4</th>\n",
       "      <td>Over 60</td>\n",
       "      <td>6</td>\n",
       "    </tr>\n",
       "  </tbody>\n",
       "</table>\n",
       "</div>"
      ],
      "text/plain": [
       "       age  avg_hours\n",
       "0    18-25          8\n",
       "1    26-35          8\n",
       "2    36-45          8\n",
       "3    46-60          6\n",
       "4  Over 60          6"
      ]
     },
     "execution_count": 40,
     "metadata": {},
     "output_type": "execute_result"
    }
   ],
   "source": [
    "# Load age table data to postgresDB\n",
    "age_df.to_sql(name='age', con=engine, if_exists='append', index=False)\n",
    "pd.read_sql_query('select * from age', con=engine).head()"
   ]
  },
  {
   "cell_type": "code",
   "execution_count": 41,
   "metadata": {},
   "outputs": [
    {
     "data": {
      "text/html": [
       "<div>\n",
       "<style scoped>\n",
       "    .dataframe tbody tr th:only-of-type {\n",
       "        vertical-align: middle;\n",
       "    }\n",
       "\n",
       "    .dataframe tbody tr th {\n",
       "        vertical-align: top;\n",
       "    }\n",
       "\n",
       "    .dataframe thead th {\n",
       "        text-align: right;\n",
       "    }\n",
       "</style>\n",
       "<table border=\"1\" class=\"dataframe\">\n",
       "  <thead>\n",
       "    <tr style=\"text-align: right;\">\n",
       "      <th></th>\n",
       "      <th>country</th>\n",
       "      <th>perc_male</th>\n",
       "      <th>perc_female</th>\n",
       "    </tr>\n",
       "  </thead>\n",
       "  <tbody>\n",
       "    <tr>\n",
       "      <th>0</th>\n",
       "      <td>US</td>\n",
       "      <td>0.54</td>\n",
       "      <td>0.46</td>\n",
       "    </tr>\n",
       "    <tr>\n",
       "      <th>1</th>\n",
       "      <td>Japan</td>\n",
       "      <td>0.34</td>\n",
       "      <td>0.66</td>\n",
       "    </tr>\n",
       "    <tr>\n",
       "      <th>2</th>\n",
       "      <td>UK</td>\n",
       "      <td>0.51</td>\n",
       "      <td>0.49</td>\n",
       "    </tr>\n",
       "    <tr>\n",
       "      <th>3</th>\n",
       "      <td>South Korea</td>\n",
       "      <td>0.63</td>\n",
       "      <td>0.37</td>\n",
       "    </tr>\n",
       "    <tr>\n",
       "      <th>4</th>\n",
       "      <td>China</td>\n",
       "      <td>0.73</td>\n",
       "      <td>0.27</td>\n",
       "    </tr>\n",
       "  </tbody>\n",
       "</table>\n",
       "</div>"
      ],
      "text/plain": [
       "       country  perc_male  perc_female\n",
       "0           US       0.54         0.46\n",
       "1        Japan       0.34         0.66\n",
       "2           UK       0.51         0.49\n",
       "3  South Korea       0.63         0.37\n",
       "4        China       0.73         0.27"
      ]
     },
     "execution_count": 41,
     "metadata": {},
     "output_type": "execute_result"
    }
   ],
   "source": [
    "# Load gender table data to postgresDB\n",
    "gender_df.to_sql(name='gender', con=engine, if_exists='append', index=False)\n",
    "pd.read_sql_query('select * from gender', con=engine).head()"
   ]
  },
  {
   "cell_type": "code",
   "execution_count": 42,
   "metadata": {},
   "outputs": [
    {
     "data": {
      "text/html": [
       "<div>\n",
       "<style scoped>\n",
       "    .dataframe tbody tr th:only-of-type {\n",
       "        vertical-align: middle;\n",
       "    }\n",
       "\n",
       "    .dataframe tbody tr th {\n",
       "        vertical-align: top;\n",
       "    }\n",
       "\n",
       "    .dataframe thead th {\n",
       "        text-align: right;\n",
       "    }\n",
       "</style>\n",
       "<table border=\"1\" class=\"dataframe\">\n",
       "  <thead>\n",
       "    <tr style=\"text-align: right;\">\n",
       "      <th></th>\n",
       "      <th>country</th>\n",
       "      <th>avg_hours</th>\n",
       "    </tr>\n",
       "  </thead>\n",
       "  <tbody>\n",
       "    <tr>\n",
       "      <th>0</th>\n",
       "      <td>Germany</td>\n",
       "      <td>7.98</td>\n",
       "    </tr>\n",
       "    <tr>\n",
       "      <th>1</th>\n",
       "      <td>US</td>\n",
       "      <td>7.61</td>\n",
       "    </tr>\n",
       "    <tr>\n",
       "      <th>2</th>\n",
       "      <td>Singapore</td>\n",
       "      <td>7.44</td>\n",
       "    </tr>\n",
       "    <tr>\n",
       "      <th>3</th>\n",
       "      <td>India</td>\n",
       "      <td>6.97</td>\n",
       "    </tr>\n",
       "    <tr>\n",
       "      <th>4</th>\n",
       "      <td>India</td>\n",
       "      <td>6.92</td>\n",
       "    </tr>\n",
       "  </tbody>\n",
       "</table>\n",
       "</div>"
      ],
      "text/plain": [
       "     country  avg_hours\n",
       "0    Germany       7.98\n",
       "1         US       7.61\n",
       "2  Singapore       7.44\n",
       "3      India       6.97\n",
       "4      India       6.92"
      ]
     },
     "execution_count": 42,
     "metadata": {},
     "output_type": "execute_result"
    }
   ],
   "source": [
    "# Load hours_average_country table data to postgresDB\n",
    "hours_average_country_df.to_sql(name='hours_average_country', con=engine, if_exists='append', index=False)\n",
    "pd.read_sql_query('select * from hours_average_country', con=engine).head()"
   ]
  },
  {
   "cell_type": "code",
   "execution_count": 43,
   "metadata": {},
   "outputs": [
    {
     "data": {
      "text/html": [
       "<div>\n",
       "<style scoped>\n",
       "    .dataframe tbody tr th:only-of-type {\n",
       "        vertical-align: middle;\n",
       "    }\n",
       "\n",
       "    .dataframe tbody tr th {\n",
       "        vertical-align: top;\n",
       "    }\n",
       "\n",
       "    .dataframe thead th {\n",
       "        text-align: right;\n",
       "    }\n",
       "</style>\n",
       "<table border=\"1\" class=\"dataframe\">\n",
       "  <thead>\n",
       "    <tr style=\"text-align: right;\">\n",
       "      <th></th>\n",
       "      <th>country</th>\n",
       "      <th>revenue</th>\n",
       "      <th>gamers</th>\n",
       "    </tr>\n",
       "  </thead>\n",
       "  <tbody>\n",
       "    <tr>\n",
       "      <th>0</th>\n",
       "      <td>China</td>\n",
       "      <td>36500</td>\n",
       "      <td>640</td>\n",
       "    </tr>\n",
       "    <tr>\n",
       "      <th>1</th>\n",
       "      <td>India</td>\n",
       "      <td>1560</td>\n",
       "      <td>300</td>\n",
       "    </tr>\n",
       "    <tr>\n",
       "      <th>2</th>\n",
       "      <td>Latin America</td>\n",
       "      <td>2450</td>\n",
       "      <td>253</td>\n",
       "    </tr>\n",
       "    <tr>\n",
       "      <th>3</th>\n",
       "      <td>Southeast Asia</td>\n",
       "      <td>4300</td>\n",
       "      <td>227</td>\n",
       "    </tr>\n",
       "    <tr>\n",
       "      <th>4</th>\n",
       "      <td>US</td>\n",
       "      <td>35500</td>\n",
       "      <td>164</td>\n",
       "    </tr>\n",
       "  </tbody>\n",
       "</table>\n",
       "</div>"
      ],
      "text/plain": [
       "          country  revenue  gamers\n",
       "0           China    36500     640\n",
       "1           India     1560     300\n",
       "2   Latin America     2450     253\n",
       "3  Southeast Asia     4300     227\n",
       "4              US    35500     164"
      ]
     },
     "execution_count": 43,
     "metadata": {},
     "output_type": "execute_result"
    }
   ],
   "source": [
    "# Load revenue table data to postgresDB\n",
    "revenue_df.to_sql(name='revenue', con=engine, if_exists='append', index=False)\n",
    "pd.read_sql_query('select * from revenue', con=engine).head()"
   ]
  },
  {
   "cell_type": "code",
   "execution_count": 44,
   "metadata": {},
   "outputs": [
    {
     "data": {
      "text/html": [
       "<div>\n",
       "<style scoped>\n",
       "    .dataframe tbody tr th:only-of-type {\n",
       "        vertical-align: middle;\n",
       "    }\n",
       "\n",
       "    .dataframe tbody tr th {\n",
       "        vertical-align: top;\n",
       "    }\n",
       "\n",
       "    .dataframe thead th {\n",
       "        text-align: right;\n",
       "    }\n",
       "</style>\n",
       "<table border=\"1\" class=\"dataframe\">\n",
       "  <thead>\n",
       "    <tr style=\"text-align: right;\">\n",
       "      <th></th>\n",
       "      <th>date</th>\n",
       "      <th>users</th>\n",
       "      <th>in_game</th>\n",
       "    </tr>\n",
       "  </thead>\n",
       "  <tbody>\n",
       "    <tr>\n",
       "      <th>0</th>\n",
       "      <td>2019-01-01</td>\n",
       "      <td>16067952</td>\n",
       "      <td>4915125</td>\n",
       "    </tr>\n",
       "    <tr>\n",
       "      <th>1</th>\n",
       "      <td>2019-01-02</td>\n",
       "      <td>16124928</td>\n",
       "      <td>4838979</td>\n",
       "    </tr>\n",
       "    <tr>\n",
       "      <th>2</th>\n",
       "      <td>2019-01-03</td>\n",
       "      <td>15938390</td>\n",
       "      <td>4737719</td>\n",
       "    </tr>\n",
       "    <tr>\n",
       "      <th>3</th>\n",
       "      <td>2019-01-04</td>\n",
       "      <td>16473114</td>\n",
       "      <td>5088225</td>\n",
       "    </tr>\n",
       "    <tr>\n",
       "      <th>4</th>\n",
       "      <td>2019-01-05</td>\n",
       "      <td>17469182</td>\n",
       "      <td>5555946</td>\n",
       "    </tr>\n",
       "  </tbody>\n",
       "</table>\n",
       "</div>"
      ],
      "text/plain": [
       "         date     users  in_game\n",
       "0  2019-01-01  16067952  4915125\n",
       "1  2019-01-02  16124928  4838979\n",
       "2  2019-01-03  15938390  4737719\n",
       "3  2019-01-04  16473114  5088225\n",
       "4  2019-01-05  17469182  5555946"
      ]
     },
     "execution_count": 44,
     "metadata": {},
     "output_type": "execute_result"
    }
   ],
   "source": [
    "# Load steam_users_lifetime table data to postgresDB\n",
    "steam_users_lifetime_df.to_sql(name='steam_users_lifetime', con=engine, if_exists='append', index=False)\n",
    "pd.read_sql_query('select * from steam_users_lifetime', con=engine).head()"
   ]
  },
  {
   "cell_type": "code",
   "execution_count": 45,
   "metadata": {},
   "outputs": [
    {
     "data": {
      "text/html": [
       "<div>\n",
       "<style scoped>\n",
       "    .dataframe tbody tr th:only-of-type {\n",
       "        vertical-align: middle;\n",
       "    }\n",
       "\n",
       "    .dataframe tbody tr th {\n",
       "        vertical-align: top;\n",
       "    }\n",
       "\n",
       "    .dataframe thead th {\n",
       "        text-align: right;\n",
       "    }\n",
       "</style>\n",
       "<table border=\"1\" class=\"dataframe\">\n",
       "  <thead>\n",
       "    <tr style=\"text-align: right;\">\n",
       "      <th></th>\n",
       "      <th>date</th>\n",
       "      <th>dota_2</th>\n",
       "      <th>counter_strike</th>\n",
       "      <th>terraria</th>\n",
       "      <th>postal</th>\n",
       "      <th>gta</th>\n",
       "      <th>fallout_4</th>\n",
       "      <th>life_is_strange</th>\n",
       "      <th>battlegrounds</th>\n",
       "      <th>hitman_2</th>\n",
       "      <th>among_us</th>\n",
       "    </tr>\n",
       "  </thead>\n",
       "  <tbody>\n",
       "    <tr>\n",
       "      <th>0</th>\n",
       "      <td>2019-01-01</td>\n",
       "      <td>630381</td>\n",
       "      <td>577546</td>\n",
       "      <td>30825</td>\n",
       "      <td>9</td>\n",
       "      <td>105875</td>\n",
       "      <td>25257</td>\n",
       "      <td>272</td>\n",
       "      <td>986759</td>\n",
       "      <td>7354</td>\n",
       "      <td>18</td>\n",
       "    </tr>\n",
       "    <tr>\n",
       "      <th>1</th>\n",
       "      <td>2019-01-02</td>\n",
       "      <td>653543</td>\n",
       "      <td>617293</td>\n",
       "      <td>29696</td>\n",
       "      <td>10</td>\n",
       "      <td>104300</td>\n",
       "      <td>21224</td>\n",
       "      <td>230</td>\n",
       "      <td>988726</td>\n",
       "      <td>5703</td>\n",
       "      <td>16</td>\n",
       "    </tr>\n",
       "    <tr>\n",
       "      <th>2</th>\n",
       "      <td>2019-01-03</td>\n",
       "      <td>645297</td>\n",
       "      <td>614938</td>\n",
       "      <td>29331</td>\n",
       "      <td>9</td>\n",
       "      <td>102460</td>\n",
       "      <td>20530</td>\n",
       "      <td>215</td>\n",
       "      <td>978611</td>\n",
       "      <td>5949</td>\n",
       "      <td>23</td>\n",
       "    </tr>\n",
       "    <tr>\n",
       "      <th>3</th>\n",
       "      <td>2019-01-04</td>\n",
       "      <td>679515</td>\n",
       "      <td>648525</td>\n",
       "      <td>32569</td>\n",
       "      <td>7</td>\n",
       "      <td>111765</td>\n",
       "      <td>20679</td>\n",
       "      <td>215</td>\n",
       "      <td>1037423</td>\n",
       "      <td>5923</td>\n",
       "      <td>19</td>\n",
       "    </tr>\n",
       "    <tr>\n",
       "      <th>4</th>\n",
       "      <td>2019-01-05</td>\n",
       "      <td>731384</td>\n",
       "      <td>671521</td>\n",
       "      <td>38075</td>\n",
       "      <td>11</td>\n",
       "      <td>118732</td>\n",
       "      <td>23563</td>\n",
       "      <td>172</td>\n",
       "      <td>1091897</td>\n",
       "      <td>9705</td>\n",
       "      <td>21</td>\n",
       "    </tr>\n",
       "  </tbody>\n",
       "</table>\n",
       "</div>"
      ],
      "text/plain": [
       "         date  dota_2  counter_strike  terraria  postal     gta  fallout_4  \\\n",
       "0  2019-01-01  630381          577546     30825       9  105875      25257   \n",
       "1  2019-01-02  653543          617293     29696      10  104300      21224   \n",
       "2  2019-01-03  645297          614938     29331       9  102460      20530   \n",
       "3  2019-01-04  679515          648525     32569       7  111765      20679   \n",
       "4  2019-01-05  731384          671521     38075      11  118732      23563   \n",
       "\n",
       "   life_is_strange  battlegrounds  hitman_2  among_us  \n",
       "0              272         986759      7354        18  \n",
       "1              230         988726      5703        16  \n",
       "2              215         978611      5949        23  \n",
       "3              215        1037423      5923        19  \n",
       "4              172        1091897      9705        21  "
      ]
     },
     "execution_count": 45,
     "metadata": {},
     "output_type": "execute_result"
    }
   ],
   "source": [
    "# Load top_ten table data to postgresDB\n",
    "top_ten_df.to_sql(name='top_ten', con=engine, if_exists='append', index=False)\n",
    "pd.read_sql_query('select * from top_ten', con=engine).head()"
   ]
  },
  {
   "cell_type": "code",
   "execution_count": null,
   "metadata": {},
   "outputs": [],
   "source": []
  },
  {
   "cell_type": "code",
   "execution_count": null,
   "metadata": {},
   "outputs": [],
   "source": []
  }
 ],
 "metadata": {
  "kernelspec": {
   "display_name": "Python 3",
   "language": "python",
   "name": "python3"
  },
  "language_info": {
   "codemirror_mode": {
    "name": "ipython",
    "version": 3
   },
   "file_extension": ".py",
   "mimetype": "text/x-python",
   "name": "python",
   "nbconvert_exporter": "python",
   "pygments_lexer": "ipython3",
   "version": "3.8.3"
  },
  "nteract": {
   "version": "0.12.3"
  }
 },
 "nbformat": 4,
 "nbformat_minor": 4
}
